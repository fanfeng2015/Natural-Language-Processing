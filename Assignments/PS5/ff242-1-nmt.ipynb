{
  "nbformat": 4,
  "nbformat_minor": 0,
  "metadata": {
    "colab": {
      "name": "ff242_1.ipynb",
      "version": "0.3.2",
      "provenance": [],
      "collapsed_sections": [],
      "toc_visible": true
    },
    "kernelspec": {
      "name": "python3",
      "display_name": "Python 3"
    },
    "accelerator": "GPU"
  },
  "cells": [
    {
      "metadata": {
        "id": "2RW-ZE14WTn7",
        "colab_type": "text"
      },
      "cell_type": "markdown",
      "source": [
        "# Neural Machine Translation with Sequence to Sequence Models\n"
      ]
    },
    {
      "metadata": {
        "id": "t93Rg5pJ5GdD",
        "colab_type": "code",
        "colab": {}
      },
      "cell_type": "code",
      "source": [
        "__instructor__ = \"Dragomir Radev\"\n",
        "__authors__ = \"Online Tutorial Author (Link will be revealed later)\", \"Alexander R. Fabbri\", \"Tao Yu\"\n",
        "__version__ = \"Introduction to Natural Language Processing, Spring 2019\""
      ],
      "execution_count": 0,
      "outputs": []
    },
    {
      "metadata": {
        "id": "4uGmwAUq5IY2",
        "colab_type": "text"
      },
      "cell_type": "markdown",
      "source": [
        "## Content\n",
        "\n",
        "0. Overview\n",
        "0. Environment Setup\n",
        "0. Assignment Part 1: Vanilla Sequence-to-Sequence Model\n",
        "0. Assignment Part 2: Sequence-to-Sequence with Attention (in a separate notebook)\n",
        "0. Assignment Part 3: Transformer Model (Bonus -- in a separate notebook)\n",
        "0. Submission"
      ]
    },
    {
      "metadata": {
        "id": "tj7_nSMS5K7b",
        "colab_type": "text"
      },
      "cell_type": "markdown",
      "source": [
        "## Overview\n",
        "\n",
        "In this assignment, You will:\n",
        "\n",
        "* Learn to use some helpful tools such as Google Colab, Pytorch, Torchtext\n",
        "* Develop a neural model for machine translation\n",
        "\n",
        "\n",
        "__Sections of this document__\n",
        "\n",
        "Section A: Background\n",
        "\n",
        "1. Environment setup\n",
        "2. Introduction to Sequence-to-Sequence Models\n",
        "\n",
        "Section B: Implementation of Deep Learning for Machine Translation\n",
        "\n",
        "3. Implementing a vanilla Sequence-to-Sequence Model\n",
        "4. Implementing a Sequence-to-Sequence Model with Attention\n",
        "5. Transformer Model (bonus)\n",
        "\n",
        "__Grading Criteria__\n",
        "\n",
        "*  Preprocessing with Torchtext  - ___15 points___\n",
        "    0. Implement Torchtext preprocessing - ___10 points___\n",
        "    0. Miscellaneous questions  - ___5 points___\n",
        "    \n",
        "* Implement a vanilla sequence-to-sequence model in PyTorch - ___25 points___\n",
        "    0. Implement encoder – __10__ points\n",
        "    0. Implement decoder – __10__ points\n",
        "    0. Train network – __5__ points\n",
        "    \n",
        "* Implement a sequence-to-sequence model with attention - ___60 points___\n",
        "    0. Implement attention mechanism – __35__ points\n",
        "    0. Modify decoder to include attention – __15__ points\n",
        "    0. Experiment with code for inference and attention weights - __5__ points\n",
        "    0. Train network - __5__ points\n",
        "    \n",
        "* (Bonus) Implement the Transformer Model - ___10 points___\n",
        "    \n",
        " __Quick Search Tags__\n",
        " \n",
        "* **TODO**: to help you find questions and code snippets you have to address. Please do **NOT** delete this as the TAs will use this tag to quickly find your solutions during grading. "
      ]
    },
    {
      "metadata": {
        "id": "SMYqZpD-5Nq5",
        "colab_type": "text"
      },
      "cell_type": "markdown",
      "source": [
        "## Environment Setup\n",
        "\n",
        "For this assignment, we will use Google Colab. It is a free cloud service based on Jupyter Notebooks that lets you use a free GPU. Basically, you can quickly create, upload, share, and even edit togther Jupyter notebooks.\n",
        "\n",
        "Please refer to [tutorial 1](https://course.fast.ai/start_colab.html) or [tutorial 2](https://towardsdatascience.com/getting-started-with-google-colab-f2fff97f594c) for additional instructions on how to use Google Colab.\n",
        "\n",
        "#### Using GPU in Colab\n",
        "Before running anything, you need to tell Colab that you want to use a GPU: \n",
        "1. Go to __Runtime__ option on the top left\n",
        "2. Click __Change runtime type__\n",
        "3. Select \"Python 3\" for __Runtime type__ and \"GPU\" for __Hardward accelerator__\n",
        "4. Click __SAVE__ button\n",
        "\n",
        "Colab has popular libraries already installed such as Pytorch, TensorFlow, OpenCV and Keras. Let's get started and verify this:"
      ]
    },
    {
      "metadata": {
        "id": "HfXXxdem5SAT",
        "colab_type": "code",
        "outputId": "ecfe6f5c-7b5f-4abc-ba46-0ba6df21f7cd",
        "colab": {
          "base_uri": "https://localhost:8080/",
          "height": 51
        }
      },
      "cell_type": "code",
      "source": [
        "import torch\n",
        "device = torch.device(\"cuda\" if torch.cuda.is_available() else \"cpu\")\n",
        "print(\"Pytorch version is: \", torch.__version__)\n",
        "print(\"You are using: \", device)"
      ],
      "execution_count": 2,
      "outputs": [
        {
          "output_type": "stream",
          "text": [
            "Pytorch version is:  1.0.1.post2\n",
            "You are using:  cuda\n"
          ],
          "name": "stdout"
        }
      ]
    },
    {
      "metadata": {
        "id": "JwWFsGzT5UIT",
        "colab_type": "text"
      },
      "cell_type": "markdown",
      "source": [
        "You should be using CUDA with Pytorch 1.0.1.post2.\n",
        "\n",
        "**Note**: Of course, there are some limits. For example, it allows you access to a free GPU for only 10 hours at one time.\n"
      ]
    },
    {
      "metadata": {
        "id": "TzG-FAVM5ZIw",
        "colab_type": "text"
      },
      "cell_type": "markdown",
      "source": [
        " **Note**: You need to finish this assignment on Google Colab  because you will share your Google Colab notebook with TAs for grading."
      ]
    },
    {
      "metadata": {
        "id": "sBT9IRQA5C7s",
        "colab_type": "text"
      },
      "cell_type": "markdown",
      "source": [
        "\n",
        "## Assignment Part 1: Vanilla Sequence to Sequence Model\n",
        "\n",
        "Cześć! Hello! Bonjour! In this assignment we are going to build a machine learning model for translating from one language to another using PyTorch. We will be working with German to English translation, but the methods and implementation generalize to any language for which there exists an equivalent tokenizer. Also, the sequence-to-sequence models which will be introduced are used in tasks beyond translation, including summarization, dialogue systems, among others. \n",
        "\n",
        "## Introduction\n",
        "Sequence-to-Sequence (seq2seq) models were first introduced in the [Sequence to Sequence Learning with Neural Networks](https://arxiv.org/abs/1409.3215) paper. These models do exactly what you'd think they do; they take one sequence and output another sequence (see [this link](http://jalammar.github.io/images/seq2seq_2.mp4)). Seq2seq models are a type of **encoder-decoder** model, in which a  model such as *recurrent neural network* (RNN) *encodes* the input (also called source) sentence into a single vector, often called the context vector. The context vector is a representation of the entire input sentence, and this vector is then *decoded* by a second model, often another RNN, which learns to output the *target* sentence by generating one word at a time. \n",
        "\n",
        "\n",
        "<center><img src=\"https://raw.githubusercontent.com/bentrevett/pytorch-seq2seq/master/assets/seq2seq1.png\" alt=\"mlp\" align=\"middle\"></center>\n",
        "\n",
        "This image shows an example translation using recurrent neural networks. The source sentence, \"guten morgen\" is input into the encoder (green) one word at a time. We also append a *start of sequence* (`<sos>`) and *end of sequence* (`<eos>`) token to the start and end of sentence, respectively, to give the model an idea of when encoding and decoding start and end. At each time-step, the input to the encoder RNN is both the current word, $x_t$, as well as the hidden state from the previous time-step, $h_{t-1}$, and the encoder RNN outputs a new hidden state $h_t$. You can think of the hidden state as a vector representation of the sentence so far. The RNN can be represented as a function of both of $x_t$ and $h_{t-1}$:\n",
        "\n",
        "$$h_t = \\text{EncoderRNN}(x_t, h_{t-1})$$\n",
        "\n",
        "We're using the term RNN generally here, it could be any recurrent architecture, such as an *LSTM* (Long Short-Term Memory) or a *GRU* (Gated Recurrent Unit). Additionally, as we will later see, there are non-recurrent models which achieve state-of-the-art results for machine translation. \n",
        "\n",
        "Here, we have $X = \\{x_1, x_2, ..., x_T\\}$, where $x_1 = \\text{<sos>}, x_2 = \\text{guten}$, etc. The initial hidden state, $h_0$, is usually initialized to zeros.\n",
        "\n",
        "Once the final word, $x_T$, has been passed into the RNN, we use the final hidden state, $h_T$, as the context vector, i.e. $h_T = z$. This is a vector representation of the entire source sentence.\n",
        "\n",
        "Now that we have our context vector, $z$, we can start decoding it to get the target sentence, \"good morning.\" Again, we append start and end of sequence tokens to the target sentence. At each time-step, the input to the decoder RNN (blue) is the current word, $y_t$, as well as the hidden state from the previous time-step, $s_{t-1}$, where the initial decoder hidden state, $s_0$, is the context vector, $s_0 = z = h_T$, i.e. the initial decoder hidden state is the final encoder hidden state. Thus, similar to the encoder, we can represent the decoder as:\n",
        "\n",
        "$$s_t = \\text{DecoderRNN}(y_t, s_{t-1})$$\n",
        "\n",
        "In the decoder, we need to go from the hidden state to an actual word, therefore at each time-step we use $s_t$ to predict (by passing it through a `Linear` layer, shown in purple which projects the hidden state onto the output vocabulary space, to which softmax is applied to pick the most likely word) what we think is the next word in the sequence, $\\hat{y}_t$. \n",
        "\n",
        "$$\\hat{y}_t = f(s_t)$$\n",
        "\n",
        "We always use `<sos>` for the first input to the decoder, $y_1$, but for subsequent inputs, $y_{t>1}$, we will sometimes use the actual, ground truth next word in the sequence, $y_t$ and sometimes use the word predicted by our decoder, $\\hat{y}_{t-1}$. This is called *teacher forcing*, and you can read about it more [here](https://machinelearningmastery.com/teacher-forcing-for-recurrent-neural-networks/).\n",
        "\n",
        "When training/testing our model, we always know how many words are in our target sentence, so we stop generating words once we hit that many. During inference (i.e. real world usage where we do not have access to the target translations) it is common to keep generating words until the model outputs an `<eos>` token or after a certain amount of words have been generated.\n",
        "\n",
        "Once we have our predicted target sentence, $\\hat{Y} = \\{ \\hat{y}_1, \\hat{y}_2, ..., \\hat{y}_T \\}$, we compare it against our actual target sentence, $Y = \\{ y_1, y_2, ..., y_T \\}$, to calculate our loss. We then use this loss to update all of the parameters in our model.\n"
      ]
    },
    {
      "metadata": {
        "id": "GQhdzxa1l2DQ",
        "colab_type": "text"
      },
      "cell_type": "markdown",
      "source": [
        "\n",
        "### Preparing Data\n",
        "\n",
        "We'll be coding up the models in PyTorch and using TorchText to help us do all of the pre-processing required. We'll also be using spaCy to assist in the tokenization of the data. [SpaCy](https://spacy.io/usage/spacy-101) is a very useful tool for paring and iterating over text in the preprocessing phase. "
      ]
    },
    {
      "metadata": {
        "id": "Yv5oe1W_WTn8",
        "colab_type": "code",
        "colab": {}
      },
      "cell_type": "code",
      "source": [
        "import torch\n",
        "import torch.nn as nn\n",
        "import torch.optim as optim\n",
        "\n",
        "from torchtext.datasets import TranslationDataset, Multi30k\n",
        "from torchtext.data import Field, BucketIterator\n",
        "\n",
        "import spacy\n",
        "\n",
        "import random\n",
        "import math\n",
        "import os\n",
        "import time\n",
        "\n",
        "# We'll set the random seeds for deterministic results.\n",
        "SEED = 1\n",
        "\n",
        "random.seed(SEED)\n",
        "torch.manual_seed(SEED)\n",
        "torch.backends.cudnn.enabled = False \n",
        "torch.backends.cudnn.deterministic = True"
      ],
      "execution_count": 0,
      "outputs": []
    },
    {
      "metadata": {
        "id": "iY9lDzYgWToC",
        "colab_type": "text"
      },
      "cell_type": "markdown",
      "source": [
        "\n",
        "SpaCy has model for each language (\"de\" for German and \"en\" for English) which need to be loaded so we can access the tokenizer of each model. You can experiment with the [other available languages](https://spacy.io/usage/models) from spaCy. \n",
        "\n",
        "\n",
        "We have to download the models for German and English and then load the models as such:"
      ]
    },
    {
      "metadata": {
        "id": "kqyPgqMJWjEE",
        "colab_type": "code",
        "colab": {}
      },
      "cell_type": "code",
      "source": [
        "%%capture\n",
        "! python -m spacy download en\n",
        "! python -m spacy download de\n",
        "spacy_de = spacy.load('de')\n",
        "spacy_en = spacy.load('en')"
      ],
      "execution_count": 0,
      "outputs": []
    },
    {
      "metadata": {
        "id": "Aykn5J3sWToE",
        "colab_type": "text"
      },
      "cell_type": "markdown",
      "source": [
        "Next, we create the tokenizer functions. These can be passed to TorchText and will take in the sentence as a string and return the sentence as a list of tokens.\n",
        "\n",
        "In the original paper, they find it beneficial to reverse the order of the input when feeding it to the model. \n",
        "\n",
        "**TODO**: Q1. Write why you think that would help.  (hint -- see the original paper for their explanation.)\n",
        "\n",
        "Reversing the order of the input helps becaus it introduces many short term dependencies to the dataset. Without reversing, when source sentence and target sentence are concatenated together, the distance between a word in source sentence and its corresponding word in target sentence is far. By reverting however, the average distance between corresponding words in source sentence and target sentence remains unchanged, but the first few words in source sentence are now very close to the first few words in target sentence, thus greatly reducing the problem's minimal time lag.\n",
        "\n",
        "**TODO**: Q2. Can you think of any additional data augmentation which could be done to improve translation results? \n",
        "\n",
        "1. Thesaurus: Replace words and/or phrases by their synonyms.\n",
        "\n",
        "2. Word embeddings + cosine similarity: Find similar words for replacement. "
      ]
    },
    {
      "metadata": {
        "id": "EOGmP7wXWToF",
        "colab_type": "code",
        "colab": {}
      },
      "cell_type": "code",
      "source": [
        "def tokenize_de(text):\n",
        "    \"\"\"\n",
        "    Tokenizes German text from a string into a list of strings (tokens) and reverses it\n",
        "    \"\"\"\n",
        "    return [tok.text for tok in spacy_de.tokenizer(text)][::-1]\n",
        "\n",
        "def tokenize_en(text):\n",
        "    \"\"\"\n",
        "    Tokenizes English text from a string into a list of strings (tokens)\n",
        "    \"\"\"\n",
        "    return [tok.text for tok in spacy_en.tokenizer(text)]"
      ],
      "execution_count": 0,
      "outputs": []
    },
    {
      "metadata": {
        "id": "q_KwdUmDWToH",
        "colab_type": "text"
      },
      "cell_type": "markdown",
      "source": [
        "TorchText's `Field`s handle how data should be processed. You can read all of the possible arguments [here](https://github.com/pytorch/text/blob/master/torchtext/data/field.py#L61). "
      ]
    },
    {
      "metadata": {
        "id": "6zMFz7EZavR2",
        "colab_type": "text"
      },
      "cell_type": "markdown",
      "source": [
        "**TODO**: Please create two fields below, one called SRC for the source input data and one called TRG for the target translated data. Initialize each method with tokenize = their respective language tokenizer (remember that German is the source language here), an init_token  \"**<sos\\>**\" and an eos_token \"**<eos\\>**\" and set lowercasing to true. **For the SRC Field only, also include lengths** of the input following preprocessing. This is important for batching the examples later on. \n",
        "\n",
        "Please see [the Field documentation](https://torchtext.readthedocs.io/en/latest/data.html#field). For clarification, you should look at the \"tokenize,\" \"init_token,\" \"eos_token,\" \"lower,\" and \"include_lengths\" parameters. \n",
        "\n",
        "\n"
      ]
    },
    {
      "metadata": {
        "id": "ylcIBIOtWToI",
        "colab_type": "code",
        "colab": {}
      },
      "cell_type": "code",
      "source": [
        "# TODO uncomment and fill this in according to the specifications above\n",
        "BOS_WORD = '<sos>'\n",
        "EOS_WORD = '<eos>'\n",
        "SRC = Field(tokenize=tokenize_de, init_token=BOS_WORD, eos_token=EOS_WORD, lower=True, include_lengths=True)\n",
        "TRG = Field(tokenize=tokenize_en, init_token=BOS_WORD, eos_token=EOS_WORD, lower=True)"
      ],
      "execution_count": 0,
      "outputs": []
    },
    {
      "metadata": {
        "id": "bChXO6XuWToK",
        "colab_type": "text"
      },
      "cell_type": "markdown",
      "source": [
        "Next, we download and load the train, validation and test data. \n",
        "\n",
        "The dataset we'll be using is the [Multi30k dataset](https://github.com/multi30k/dataset). This is a dataset with ~30,000 parallel English, German and French sentences, each with ~12 words per sentence. \n",
        "\n",
        "`exts` specifies which languages to use as the source and target (source goes first) and `fields` specifies which field to use for the source and target."
      ]
    },
    {
      "metadata": {
        "id": "9UnSP-kwWToK",
        "colab_type": "code",
        "colab": {
          "base_uri": "https://localhost:8080/",
          "height": 119
        },
        "outputId": "e3ffe93c-f115-491c-8a78-a36551c9f570"
      },
      "cell_type": "code",
      "source": [
        "train_data, valid_data, test_data = Multi30k.splits(exts = ('.de', '.en'), \n",
        "                                                    fields = (SRC, TRG))"
      ],
      "execution_count": 7,
      "outputs": [
        {
          "output_type": "stream",
          "text": [
            "downloading training.tar.gz\n"
          ],
          "name": "stdout"
        },
        {
          "output_type": "stream",
          "text": [
            "training.tar.gz: 100%|██████████| 1.21M/1.21M [00:01<00:00, 866kB/s]\n"
          ],
          "name": "stderr"
        },
        {
          "output_type": "stream",
          "text": [
            "downloading validation.tar.gz\n"
          ],
          "name": "stdout"
        },
        {
          "output_type": "stream",
          "text": [
            "validation.tar.gz: 100%|██████████| 46.3k/46.3k [00:00<00:00, 243kB/s]\n"
          ],
          "name": "stderr"
        },
        {
          "output_type": "stream",
          "text": [
            "downloading mmt_task1_test2016.tar.gz\n"
          ],
          "name": "stdout"
        },
        {
          "output_type": "stream",
          "text": [
            "mmt_task1_test2016.tar.gz: 100%|██████████| 66.2k/66.2k [00:00<00:00, 240kB/s]\n"
          ],
          "name": "stderr"
        }
      ]
    },
    {
      "metadata": {
        "id": "myIpbN3nWToO",
        "colab_type": "text"
      },
      "cell_type": "markdown",
      "source": [
        "We can double check that we've loaded the right number of examples:"
      ]
    },
    {
      "metadata": {
        "id": "FhPbupsZWToO",
        "colab_type": "code",
        "outputId": "a9229b1e-307f-4920-a859-9f3b0f974b01",
        "colab": {
          "base_uri": "https://localhost:8080/",
          "height": 68
        }
      },
      "cell_type": "code",
      "source": [
        "print(f\"Number of training examples: {len(train_data.examples)}\")\n",
        "print(f\"Number of validation examples: {len(valid_data.examples)}\")\n",
        "print(f\"Number of testing examples: {len(test_data.examples)}\")"
      ],
      "execution_count": 8,
      "outputs": [
        {
          "output_type": "stream",
          "text": [
            "Number of training examples: 29000\n",
            "Number of validation examples: 1014\n",
            "Number of testing examples: 1000\n"
          ],
          "name": "stdout"
        }
      ]
    },
    {
      "metadata": {
        "id": "gZHhLc72WToU",
        "colab_type": "text"
      },
      "cell_type": "markdown",
      "source": [
        "We can also print out an example, making sure the source sentence is reversed:"
      ]
    },
    {
      "metadata": {
        "id": "4vFArpCqWToU",
        "colab_type": "code",
        "outputId": "5267cfa2-dd16-44e9-c04e-c8f99cf7049c",
        "colab": {
          "base_uri": "https://localhost:8080/",
          "height": 54
        }
      },
      "cell_type": "code",
      "source": [
        "print(vars(train_data.examples[0]))"
      ],
      "execution_count": 9,
      "outputs": [
        {
          "output_type": "stream",
          "text": [
            "{'src': ['.', 'büsche', 'vieler', 'nähe', 'der', 'in', 'freien', 'im', 'sind', 'männer', 'weiße', 'junge', 'zwei'], 'trg': ['two', 'young', ',', 'white', 'males', 'are', 'outside', 'near', 'many', 'bushes', '.']}\n"
          ],
          "name": "stdout"
        }
      ]
    },
    {
      "metadata": {
        "id": "cJ_1_SrKWToX",
        "colab_type": "text"
      },
      "cell_type": "markdown",
      "source": [
        "The period is at the beginning of the German (src) sentence, so looks good!\n",
        "\n",
        "Next, we'll build the *vocabulary* for the source and target languages. The vocabulary is used to associate each unique token with an index (an integer) and this is used to build a one-hot encoding for each token (a vector of all zeros except for the position represented by the index, which is 1). The vocabularies of the source and target languages are distinct.\n",
        "\n",
        "Using the `min_freq` argument, we only allow tokens that appear at least 2 times to appear in our vocabulary. Tokens that appear only once are converted into an `<unk>` (unknown) token.\n",
        "\n",
        "It is important to note that your vocabulary should only be built from the training set and not the validation/test set. This prevents \"information leakage\" into your model, giving you artifically inflated validation/test scores."
      ]
    },
    {
      "metadata": {
        "id": "syHVQKH1WToY",
        "colab_type": "code",
        "colab": {}
      },
      "cell_type": "code",
      "source": [
        "SRC.build_vocab(train_data, min_freq = 2)\n",
        "TRG.build_vocab(train_data, min_freq = 2)"
      ],
      "execution_count": 0,
      "outputs": []
    },
    {
      "metadata": {
        "id": "NBc-q3nAWToZ",
        "colab_type": "code",
        "outputId": "47021e38-2395-46eb-87f2-d7914687020c",
        "colab": {
          "base_uri": "https://localhost:8080/",
          "height": 51
        }
      },
      "cell_type": "code",
      "source": [
        "print(f\"Unique tokens in source (de) vocabulary: {len(SRC.vocab)}\")\n",
        "print(f\"Unique tokens in target (en) vocabulary: {len(TRG.vocab)}\")"
      ],
      "execution_count": 11,
      "outputs": [
        {
          "output_type": "stream",
          "text": [
            "Unique tokens in source (de) vocabulary: 7853\n",
            "Unique tokens in target (en) vocabulary: 5893\n"
          ],
          "name": "stdout"
        }
      ]
    },
    {
      "metadata": {
        "id": "Cs4fCZYtWToc",
        "colab_type": "text"
      },
      "cell_type": "markdown",
      "source": [
        "The final step of preparing the data is to create the iterators. These can be iterated on to return a batch of data which will have a `src` attribute (the PyTorch tensors containing a batch of numericalized source sentences) and a `trg` attribute (the PyTorch tensors containing a batch of numericalized target sentences). Numericalized is just a fancy way of saying they have been converted from a sequence of readable tokens to a sequence of corresponding indexes, using the vocabulary. \n",
        "\n",
        "We also need to define a `torch.device`. This is used to tell TorchText to put the tensors on the GPU or not. We use the `torch.cuda.is_available()` function, which will return `True` if a GPU is detected on our computer. We pass this `device` to the iterator.\n",
        "\n",
        "When we get a batch of examples using an iterator we need to make sure that all of the source sentences are padded to the same length, the same with the target sentences. Luckily, TorchText iterators handle this for us! \n",
        "\n",
        "We use a `BucketIterator` instead of the standard `Iterator` as it creates batches in such a way that it minimizes the amount of padding in both the source and target sentences. "
      ]
    },
    {
      "metadata": {
        "id": "vRtMy7dOcwbb",
        "colab_type": "text"
      },
      "cell_type": "markdown",
      "source": [
        "**TODO**: please add a parameter to BucketIterator to sort items within a batch. See [the documentation](https://torchtext.readthedocs.io/en/latest/data.html#bucketiterator) for a list of available parameters. "
      ]
    },
    {
      "metadata": {
        "id": "6zhQElUIWTod",
        "colab_type": "code",
        "colab": {}
      },
      "cell_type": "code",
      "source": [
        "device = torch.device('cuda' if torch.cuda.is_available() else 'cpu')"
      ],
      "execution_count": 0,
      "outputs": []
    },
    {
      "metadata": {
        "id": "uaHlkHlHWTof",
        "colab_type": "code",
        "colab": {}
      },
      "cell_type": "code",
      "source": [
        "BATCH_SIZE = 128\n",
        "# TODO uncomment and modify this\n",
        "train_iterator, valid_iterator, test_iterator = BucketIterator.splits(\n",
        "    (train_data, valid_data, test_data), \n",
        "    batch_size = BATCH_SIZE, \n",
        "    device = device, sort_key = lambda x: len(x.src), sort_within_batch=True)"
      ],
      "execution_count": 0,
      "outputs": []
    },
    {
      "metadata": {
        "id": "WoL3rBhRWTog",
        "colab_type": "text"
      },
      "cell_type": "markdown",
      "source": [
        "### Building the Seq2Seq Model\n",
        "\n",
        "We'll be building our model in three parts. The encoder, the decoder and a seq2seq model that encapsulates the encoder and decoder and will provide a way to interface with each.\n",
        "\n",
        "### Encoder\n",
        "\n",
        "First, the encoder, a single layer GRU. The paper we are implementing uses a 4-layer LSTM, but in the interest of training time and simplicity we cut this down to a single layer GRU. The concept of multi-layer RNNs is easy to expand from a single layer to 4 layers. See [this](https://colah.github.io/posts/2015-08-Understanding-LSTMs/) blog post if you want to learn more about GRUs and LSTMs. You just need to know that they're a type of RNN. \n",
        "\n",
        "$$\\begin{align*}\n",
        "h_t &= \\text{RNN}(x_t, h_{t-1})\\\\\n",
        "h_t &= \\text{GRU}(x_t, h_{t-1})\\\\\n",
        "\\end{align*}$$\n",
        "\n",
        "\n",
        "We create this in code by making an `Encoder` module, which requires we inherit from `torch.nn.Module` and use the `super().__init__()` as some boilerplate code. The encoder takes the following arguments:\n",
        "- `input_dim` is the size/dimensionality of the one-hot vectors that will be input to the encoder. This is equal to the input (source) vocabulary size.\n",
        "- `emb_dim` is the dimensionality of the embedding layer. This layer converts the one-hot vectors into dense vectors with `emb_dim` dimensions. \n",
        "- `enc_hid_dim` is the dimensionality of the hidden states in the encoder.\n",
        "- `dec_hid_dim` is the dimensionality of the hidden states in the decoder, which may differ from the hid_dim of the encoder.\n",
        "- `dropout` is the amount of dropout to use. This is a regularization parameter to prevent overfitting. Check out [this](https://www.coursera.org/lecture/deep-neural-network/understanding-dropout-YaGbR) for more details about dropout.\n",
        "\n",
        "If you would like to know about word embeddings, I'd recommend these articles [1](https://monkeylearn.com/blog/word-embeddings-transform-text-numbers/), [2](http://p.migdal.pl/2017/01/06/king-man-woman-queen-why.html), [3](http://mccormickml.com/2016/04/19/word2vec-tutorial-the-skip-gram-model/), [4](http://mccormickml.com/2017/01/11/word2vec-tutorial-part-2-negative-sampling/). \n",
        "\n",
        "The embedding layer is created using `nn.Embedding`, the GRU with `nn.GRU` and a dropout layer with `nn.Dropout`. Check the PyTorch [documentation](https://pytorch.org/docs/stable/nn.html) for more about these.\n",
        "\n",
        "One thing to note is that the `dropout` argument to the GRU is how much dropout to apply between the layers of a multi-layer RNN, i.e. between the hidden states output from layer $l$ and those same hidden states being used for the input of layer $l+1$.\n",
        "\n",
        "In the `forward` method, we pass in the source sentence, $X$, which is converted into dense vectors using the `embedding` layer, and then dropout is applied. These embeddings are then passed into the RNN. As we pass a whole sequence to the RNN, it will automatically do the recurrent calculation of the hidden states over the whole sequence for us! You may notice that we do not pass an initial hidden state to the RNN. This is because, as noted in the [documentation](https://pytorch.org/docs/stable/nn.html#torch.nn.GRU), that if no hidden state is passed to the RNN, it will automatically create an initial hidden state as a tensor of all zeros. \n",
        "\n",
        "The RNN returns: `outputs` (the top-layer hidden state for each time-step) and `hidden` (the final hidden state for each layer, $h_T$, stacked on top of each other).\n",
        "\n",
        "\n",
        "The sizes of each of the tensors is left as comments in the code."
      ]
    },
    {
      "metadata": {
        "id": "mf8O_qGRds5P",
        "colab_type": "text"
      },
      "cell_type": "markdown",
      "source": [
        "**TODO** \n",
        "1. in the \\__init__ function below, fill in complete self.rnn with a [GRU](https://pytorch.org/docs/stable/nn.html#torch.nn.GRU) of (emb_dim input dimension, enc_hid_dim output dimension) and which is bidirectional. Also, create a linear layer called self.fc which has input dimension enc_hid_dim * 2 and output dimension dec_hid_dim. \n",
        "\n",
        "2. Fill in the code in the forward function with the appropriate function for padding and unpacking sequences of varying length. You just have to read the documentation for [pack_padded_sequence ](https://pytorch.org/docs/stable/nn.html#pack-padded-sequence) and [pad_padded_sequence](https://pytorch.org/docs/stable/nn.html#pad-packed-sequence) and fill in the code with the appropriate function. "
      ]
    },
    {
      "metadata": {
        "id": "6fz_08hMWToi",
        "colab_type": "code",
        "colab": {}
      },
      "cell_type": "code",
      "source": [
        "class Encoder(nn.Module):\n",
        "    def __init__(self, input_dim, emb_dim, enc_hid_dim, dec_hid_dim, dropout):\n",
        "        super().__init__()\n",
        "        \n",
        "        self.input_dim = input_dim\n",
        "        self.emb_dim = emb_dim\n",
        "        self.enc_hid_dim = enc_hid_dim\n",
        "        self.dec_hid_dim = dec_hid_dim\n",
        "        self.dropout = dropout\n",
        "        \n",
        "        self.embedding = nn.Embedding(input_dim, emb_dim)\n",
        "        # TODO uncomment and fill in \n",
        "        self.rnn = nn.GRU(emb_dim, enc_hid_dim, bidirectional = True)\n",
        "        # TODO uncomment and fill in \n",
        "        self.fc = nn.Linear(2 * enc_hid_dim, dec_hid_dim)\n",
        "        \n",
        "        self.dropout = nn.Dropout(dropout)\n",
        "        \n",
        "    def forward(self, src, src_len):\n",
        "        # src = [src sent len, batch size]\n",
        "        # src_len = [src sent len]\n",
        "  \n",
        "        embedded = self.dropout(self.embedding(src))\n",
        "        # embedded = [src sent len, batch size, emb dim]\n",
        "      \n",
        "        # TODO uncomment and fill in with correct padded sequence function\n",
        "        packed_embedded = nn.utils.rnn.pack_padded_sequence(embedded, src_len)\n",
        "        \n",
        "        packed_outputs, hidden = self.rnn(packed_embedded)\n",
        "        # TODO uncomment and fill in with correct padded sequence function               \n",
        "        outputs, _ = nn.utils.rnn.pad_packed_sequence(packed_outputs) \n",
        "            \n",
        "        # outputs = [sent len, batch size, dec_hid_dim * num directions]\n",
        "        # hidden = [n layers * num directions, batch size, dec_hid_dim]\n",
        "        \n",
        "        # hidden is stacked [forward_1, backward_1, forward_2, backward_2, ...]\n",
        "        # outputs are always from the last layer\n",
        "        \n",
        "        # hidden [-2, :, : ] is the last of the forwards RNN \n",
        "        # hidden [-1, :, : ] is the last of the backwards RNN\n",
        "        \n",
        "        # initial decoder hidden is final hidden state of the forwards and backwards encoder RNNs fed through a linear layer\n",
        "        hidden = torch.tanh(self.fc(torch.cat((hidden[-2,:,:], hidden[-1,:,:]), dim=1)))\n",
        "        \n",
        "        # outputs = [sent len, batch size, enc hid dim * 2]\n",
        "        # hidden = [batch size, dec_hid_dim]\n",
        "        \n",
        "        return outputs, hidden"
      ],
      "execution_count": 0,
      "outputs": []
    },
    {
      "metadata": {
        "id": "NST9l0-nWTon",
        "colab_type": "text"
      },
      "cell_type": "markdown",
      "source": [
        "### Decoder\n",
        "\n",
        "Next, we'll build our decoder, which will be a 1-layer (4-layer LSTM in the paper) GRU.\n",
        "\n",
        "![](assets/seq2seq3.png)\n",
        "\n",
        "The `Decoder` class does a single step of decoding. In this example, we are using a single layer GRU, so the equation will look just like the encoder equation: \n",
        "\n",
        "\n",
        "\n",
        "$$\\begin{align*}\n",
        "s_t = \\text{DecoderGRU}(y_t, s_{t-1})\\\\\n",
        "\\end{align*}$$\n",
        "\n",
        "\n",
        "Remember that the initial hidden state to our decoder are our context vectors, which are the final hidden state of our encoder, i.e. $s_0=z=h_T$.\n",
        "\n",
        "We then pass the hidden state from the RNN, $s_t$, through a linear layer, $f$, to make a prediction of what the next token in the target (output) sequence should be, $\\hat{y}_{t+1}$. \n",
        "\n",
        "$$\\hat{y}_{t+1} = f(s_t)$$\n",
        "\n",
        "The arguments and initialization are analogous to the `Encoder` class, except we now have an `output_dim` which is the size of the one-hot vectors that will be input to the decoder. These are equal to the vocabulary size of the output/target. There is also the addition of the `Linear` layer, used to make the predictions from the top layer hidden state.\n",
        "\n",
        "Within the `forward` method, we accept a batch of input tokens, previous hidden states. We `unsqueeze` the input tokens to add a sentence length dimension of 1. Then, similar to the encoder, we pass through an embedding layer. This batch of embedded tokens is then passed into the RNN with the previous hidden state. This produces an `output` (hidden state from the top layer of the RNN), a new `hidden` state. We then pass the `output` (after getting rid of the sentence length dimension) through the linear layer to receive our `prediction`. We then return the `prediction` and the new `hidden` state. "
      ]
    },
    {
      "metadata": {
        "id": "oc9aLkc2WTop",
        "colab_type": "code",
        "colab": {}
      },
      "cell_type": "code",
      "source": [
        "class Decoder(nn.Module):\n",
        "    def __init__(self, output_dim, emb_dim, hid_dim, n_layers):\n",
        "        super().__init__()\n",
        "\n",
        "        self.emb_dim = emb_dim\n",
        "        self.hid_dim = hid_dim\n",
        "        self.output_dim = output_dim\n",
        "        self.n_layers = n_layers\n",
        "        \n",
        "        self.embedding = nn.Embedding(output_dim, emb_dim)\n",
        "        \n",
        "        self.rnn = nn.GRU(emb_dim, hid_dim, n_layers)\n",
        "        \n",
        "        self.out = nn.Linear(hid_dim, output_dim)\n",
        "        \n",
        "    def forward(self, input, hidden):\n",
        "        # input = [batch size]\n",
        "        # hidden = [n layers * n directions, batch size, hid dim]\n",
        "        # cell = [n layers * n directions, batch size, hid dim]\n",
        "        \n",
        "        # n directions in the decoder will both always be 1, therefore:\n",
        "        # hidden = [n layers, batch size, hid dim]\n",
        "        # context = [n layers, batch size, hid dim]\n",
        "        \n",
        "        input = input.unsqueeze(0)\n",
        "        \n",
        "        # input = [1, batch size]\n",
        "        \n",
        "        embedded = self.embedding(input)\n",
        "        \n",
        "        # embedded = [1, batch size, emb dim]\n",
        "        \n",
        "        output, hidden = self.rnn(embedded, hidden)\n",
        "        \n",
        "        # output = [sent len, batch size, hid dim * n directions]\n",
        "        # hidden = [n layers * n directions, batch size, hid dim]\n",
        "        # cell = [n layers * n directions, batch size, hid dim]\n",
        "        \n",
        "        # sent len and n directions will always be 1 in the decoder, therefore:\n",
        "        # output = [1, batch size, hid dim]\n",
        "        # hidden = [n layers, batch size, hid dim]\n",
        "        # cell = [n layers, batch size, hid dim]\n",
        "        \n",
        "        prediction = self.out(output.squeeze(0))\n",
        "        \n",
        "        # prediction = [batch size, output dim]\n",
        "        \n",
        "        return prediction, hidden"
      ],
      "execution_count": 0,
      "outputs": []
    },
    {
      "metadata": {
        "id": "SZc3dpkdWTos",
        "colab_type": "text"
      },
      "cell_type": "markdown",
      "source": [
        "### Seq2Seq\n",
        "\n",
        "For the final part of the implementation, we'll implement the seq2seq model. This will handle: \n",
        "- receiving the input/source sentence\n",
        "- using the encoder to produce the context vectors \n",
        "- using the decoder to produce the predicted output/target sentence\n",
        "\n",
        "\n",
        "The `Seq2Seq` model takes in an `Encoder`, `Decoder`, and a `device` (used to place tensors on the GPU, if it exists).\n",
        "\n",
        "Our `forward` method takes the source sentence, target sentence and a teacher-forcing ratio. The teacher forcing ratio is used when training our model. When decoding, at each time-step we will predict what the next token in the target sequence will be from the previous tokens decoded, $\\hat{y}_{t+1}=f(s_t)$. With probability equal to the teaching forcing ratio (`teacher_forcing_ratio`) we will use the actual ground-truth next token in the sequence as the input to the decoder during the next time-step. However, with probability `1 - teacher_forcing_ratio`, we will use the token that the model predicted as the next input to the model, even if it doesn't match the actual next token in the sequence.  \n",
        "\n",
        "The first thing we do in the `forward` method is to create an `outputs` tensor that will store all of our predictions, $\\hat{Y}$.\n",
        "\n",
        "We then feed the input/source sentence, $X$/`src`, into the encoder and receive out final hidden and cell states.\n",
        "\n",
        "The first input to the decoder is the start of sequence (`<sos>`) token. As our `trg` tensor already has the `<sos>` token appended (all the way back when we defined the `init_token` in our `TRG` field) we get our $y_1$ by slicing into it. We know how long our target sentences should be (`max_len`), so we loop that many times. During each iteration of the loop, we:\n",
        "- pass the input, previous hidden states ($y_t, s_{t-1}$) into the decoder\n",
        "- receive a prediction, next hidden state ($\\hat{y}_{t+1}, s_{t}$) from the decoder\n",
        "- place our prediction, $\\hat{y}_{t+1}$/`output` in our tensor of predictions, $\\hat{Y}$/`outputs`\n",
        "- decide if we are going to \"teacher force\" or not\n",
        "    - if we do, the next `input` is the ground-truth next token in the sequence, $y_{t+1}$/`trg[t]`\n",
        "    - if we don't, the next `input` is the predicted next token in the sequence, $\\hat{y}_{t+1}$/`top1`\n",
        "    \n",
        "Once we've made all of our predictions, we return our tensor full of predictions, $\\hat{Y}$/`outputs`."
      ]
    },
    {
      "metadata": {
        "id": "5VULJi93WTot",
        "colab_type": "code",
        "colab": {}
      },
      "cell_type": "code",
      "source": [
        "class Seq2Seq(nn.Module):\n",
        "    def __init__(self, encoder, decoder, device):\n",
        "        super().__init__()\n",
        "        \n",
        "        self.encoder = encoder\n",
        "        self.decoder = decoder\n",
        "        self.device = device\n",
        "        \n",
        "        assert encoder.enc_hid_dim == decoder.hid_dim, \\\n",
        "            \"Hidden dimensions of encoder and decoder must be equal!\"\n",
        "        \n",
        "    def forward(self, src, src_len, trg, teacher_forcing_ratio = 0.5):\n",
        "        # src = [src sent len, batch size]\n",
        "        # trg = [trg sent len, batch size]\n",
        "        # teacher_forcing_ratio is probability to use teacher forcing\n",
        "        # e.g. if teacher_forcing_ratio is 0.75 we use ground-truth inputs 75% of the time\n",
        "        \n",
        "        batch_size = trg.shape[1]\n",
        "        max_len = trg.shape[0]\n",
        "        trg_vocab_size = self.decoder.output_dim\n",
        "        \n",
        "        # tensor to store decoder outputs\n",
        "        outputs = torch.zeros(max_len, batch_size, trg_vocab_size).to(self.device)\n",
        "        \n",
        "        # last hidden state of the encoder is used as the initial hidden state of the decoder\n",
        "        _, hidden = self.encoder(src, src_len)\n",
        "        hidden = hidden.unsqueeze(0)\n",
        "        # first input to the decoder is the <sos> tokens\n",
        "        input = trg[0,:]\n",
        "        \n",
        "        for t in range(1, max_len):  \n",
        "            output, hidden = self.decoder(input, hidden)\n",
        "            outputs[t] = output\n",
        "            # choose whether to do teacher forcing or not\n",
        "            teacher_force = random.random() < teacher_forcing_ratio\n",
        "            top1 = output.max(1)[1]\n",
        "            input = (trg[t] if teacher_force else top1)\n",
        "        \n",
        "        return outputs"
      ],
      "execution_count": 0,
      "outputs": []
    },
    {
      "metadata": {
        "id": "08P-oKpVWTov",
        "colab_type": "text"
      },
      "cell_type": "markdown",
      "source": [
        "### Training the Seq2Seq Model\n",
        "\n",
        "Now we have our model implemented, we can begin training it. \n",
        "\n",
        "First, we'll initialize our model. As mentioned before, the input and output dimensions are defined by the size of the vocabulary. The embedding dimesions and dropout for the encoder and decoder can be different, but the number of layers and the size of the hidden/cell states must be the same. We use a single layer in these experiments. \n",
        "\n",
        "We then define the encoder, decoder and then our Seq2Seq model, which we place on the `device`."
      ]
    },
    {
      "metadata": {
        "id": "hqrUQvp6WTow",
        "colab_type": "code",
        "colab": {}
      },
      "cell_type": "code",
      "source": [
        "INPUT_DIM = len(SRC.vocab)\n",
        "OUTPUT_DIM = len(TRG.vocab)\n",
        "ENC_EMB_DIM = 256\n",
        "DEC_EMB_DIM = 256\n",
        "HID_DIM = 512\n",
        "N_LAYERS = 1\n",
        "ENC_DROPOUT = 0.5\n",
        "DEC_DROPOUT = 0.5\n",
        "\n",
        "enc = Encoder(INPUT_DIM, ENC_EMB_DIM, HID_DIM, HID_DIM, ENC_DROPOUT)\n",
        "dec = Decoder(OUTPUT_DIM, DEC_EMB_DIM, HID_DIM, N_LAYERS)\n",
        "\n",
        "model = Seq2Seq(enc, dec, device).to(device)"
      ],
      "execution_count": 0,
      "outputs": []
    },
    {
      "metadata": {
        "id": "2M6DnsUZWToy",
        "colab_type": "text"
      },
      "cell_type": "markdown",
      "source": [
        "We also define a function that will calculate the number of trainable parameters in the model."
      ]
    },
    {
      "metadata": {
        "id": "nsLNEteqWToz",
        "colab_type": "code",
        "outputId": "1a864a67-d455-46db-80a5-393efc3efe5b",
        "colab": {
          "base_uri": "https://localhost:8080/",
          "height": 34
        }
      },
      "cell_type": "code",
      "source": [
        "def count_parameters(model):\n",
        "    return sum(p.numel() for p in model.parameters() if p.requires_grad)\n",
        "\n",
        "print(f'The model has {count_parameters(model):,} trainable parameters')"
      ],
      "execution_count": 18,
      "outputs": [
        {
          "output_type": "stream",
          "text": [
            "The model has 10,615,045 trainable parameters\n"
          ],
          "name": "stdout"
        }
      ]
    },
    {
      "metadata": {
        "id": "d2lANRz3WTo2",
        "colab_type": "text"
      },
      "cell_type": "markdown",
      "source": [
        "We define our optimizer, which we use to update our parameters in the training loop. Check out [this](http://ruder.io/optimizing-gradient-descent/) post for information about different optimizers. Here, we'll use Adam."
      ]
    },
    {
      "metadata": {
        "id": "1XzEJnqxWTo3",
        "colab_type": "code",
        "colab": {}
      },
      "cell_type": "code",
      "source": [
        "optimizer = optim.Adam(model.parameters())"
      ],
      "execution_count": 0,
      "outputs": []
    },
    {
      "metadata": {
        "id": "zbQgLQj9WTo6",
        "colab_type": "text"
      },
      "cell_type": "markdown",
      "source": [
        "Next, we define our loss function. The `CrossEntropyLoss` function calculates both the log softmax as well as the negative log-likelihood of our predictions. \n",
        "\n",
        "Our loss function calculates the average loss per token, however by passing the index of the `<pad>` token as the `ignore_index` argument we ignore the loss whenever the target token is a padding token. "
      ]
    },
    {
      "metadata": {
        "id": "bqkXf5ZNWTo7",
        "colab_type": "code",
        "colab": {}
      },
      "cell_type": "code",
      "source": [
        "PAD_IDX = TRG.vocab.stoi['<pad>']\n",
        "criterion = nn.CrossEntropyLoss(ignore_index = PAD_IDX)"
      ],
      "execution_count": 0,
      "outputs": []
    },
    {
      "metadata": {
        "id": "LVtPp3INWTo-",
        "colab_type": "text"
      },
      "cell_type": "markdown",
      "source": [
        "Next, we'll define our training loop. \n",
        "\n",
        "First, we'll set the model into \"training mode\" with `model.train()`. This will turn on dropout (and batch normalization, which we aren't using) and then iterate through our data iterator.\n",
        "\n",
        "At each iteration:\n",
        "- get the source and target sentences from the batch, $X$ and $Y$\n",
        "- zero the gradients calculated from the last batch\n",
        "- feed the source and target into the model to get the output, $\\hat{Y}$\n",
        "- as the loss function only works on 2d inputs with 1d targets we need to flatten each of them with `.view`\n",
        "    - we also don't want to measure the loss of the `<sos>` token, hence we slice off the first column of the output and target tensors\n",
        "- calculate the gradients with `loss.backward()`\n",
        "- clip the gradients to prevent them from exploding (a common issue in RNNs)\n",
        "- update the parameters of our model by doing an optimizer step\n",
        "- sum the loss value to a running total\n",
        "\n",
        "Finally, we return the loss that is averaged over all batches."
      ]
    },
    {
      "metadata": {
        "id": "l1xp_-5hWTpA",
        "colab_type": "code",
        "colab": {}
      },
      "cell_type": "code",
      "source": [
        "def train(model, iterator, optimizer, criterion, clip):\n",
        "    model.train()\n",
        "    epoch_loss = 0\n",
        "    \n",
        "    for i, batch in enumerate(iterator):\n",
        "        src, src_len = batch.src\n",
        "        trg = batch.trg\n",
        "        \n",
        "        optimizer.zero_grad()\n",
        "\n",
        "        output = model(src, src_len, trg)\n",
        "        \n",
        "        # trg = [trg sent len, batch size]\n",
        "        # output = [trg sent len, batch size, output dim]\n",
        "        \n",
        "        output = output[1:].view(-1, output.shape[-1])\n",
        "        trg = trg[1:].view(-1)\n",
        "        \n",
        "        # trg = [(trg sent len - 1) * batch size]\n",
        "        # output = [(trg sent len - 1) * batch size, output dim]\n",
        "        \n",
        "        loss = criterion(output, trg)\n",
        "        loss.backward()\n",
        "        torch.nn.utils.clip_grad_norm_(model.parameters(), clip)\n",
        "        optimizer.step()\n",
        "        epoch_loss += loss.item()\n",
        "        \n",
        "    return epoch_loss / len(iterator)"
      ],
      "execution_count": 0,
      "outputs": []
    },
    {
      "metadata": {
        "id": "2Ta3elHMWTpE",
        "colab_type": "text"
      },
      "cell_type": "markdown",
      "source": [
        "Our evaluation loop is similar to our training loop, however as we aren't updating any parameters we don't need to pass an optimizer or a clip value.\n",
        "\n",
        "We must remember to set the model to evaluation mode with `model.eval()`. This will turn off dropout (and batch normalization, if used).\n",
        "\n",
        "We use the `with torch.no_grad()` block to ensure no gradients are calculated within the block. This reduces memory consumption and speeds things up. \n",
        "\n",
        "The iteration loop is similar (without the parameter updates), however we must ensure we turn teacher forcing off for evaluation. This will cause the model to only use it's own predictions to make further predictions within a sentence, which mirrors how it would be used in deployment."
      ]
    },
    {
      "metadata": {
        "id": "oAZGOivbWTpF",
        "colab_type": "code",
        "colab": {}
      },
      "cell_type": "code",
      "source": [
        "def evaluate(model, iterator, criterion):\n",
        "    model.eval()\n",
        "    epoch_loss = 0\n",
        "    \n",
        "    with torch.no_grad():\n",
        "        for i, batch in enumerate(iterator):\n",
        "            src, src_len = batch.src\n",
        "            trg = batch.trg\n",
        "\n",
        "            output = model(src, src_len, trg, 0) # turn off teacher forcing\n",
        "\n",
        "            # trg = [trg sent len, batch size]\n",
        "            # output = [trg sent len, batch size, output dim]\n",
        "\n",
        "            output = output[1:].view(-1, output.shape[-1])\n",
        "            trg = trg[1:].view(-1)\n",
        "\n",
        "            # trg = [(trg sent len - 1) * batch size]\n",
        "            # output = [(trg sent len - 1) * batch size, output dim]\n",
        "\n",
        "            loss = criterion(output, trg)\n",
        "            epoch_loss += loss.item()\n",
        "        \n",
        "    return epoch_loss / len(iterator)"
      ],
      "execution_count": 0,
      "outputs": []
    },
    {
      "metadata": {
        "id": "bNomTsziWTpH",
        "colab_type": "text"
      },
      "cell_type": "markdown",
      "source": [
        "Next, we'll create a function that we'll use to tell us how long an epoch takes."
      ]
    },
    {
      "metadata": {
        "id": "XqThqiAwWTpI",
        "colab_type": "code",
        "colab": {}
      },
      "cell_type": "code",
      "source": [
        "def epoch_time(start_time, end_time):\n",
        "    elapsed_time = end_time - start_time\n",
        "    elapsed_mins = int(elapsed_time / 60)\n",
        "    elapsed_secs = int(elapsed_time - (elapsed_mins * 60))\n",
        "    return elapsed_mins, elapsed_secs"
      ],
      "execution_count": 0,
      "outputs": []
    },
    {
      "metadata": {
        "id": "DJX0TTB_WTpK",
        "colab_type": "text"
      },
      "cell_type": "markdown",
      "source": [
        "We can finally start training our model!\n",
        "\n",
        "At each epoch, we'll be checking if our model has achieved the best validation loss so far. If it has, we'll update our best validation loss and save the parameters of our model (called `state_dict` in PyTorch). Then, when we come to test our model, we'll use the saved parameters used to achieve the best validation loss. \n",
        "\n",
        "We'll be printing out both the loss and the perplexity at each epoch. It is easier to see a change in perplexity than a change in loss as the numbers are much bigger."
      ]
    },
    {
      "metadata": {
        "id": "V8I9F7Ccf_Ae",
        "colab_type": "text"
      },
      "cell_type": "markdown",
      "source": [
        "**TODO** Train the model for 5 epochs and report your results (perplexity). \n",
        "I was getting results like this:\n",
        "\n",
        "Epoch: 01 | Time: 0m 42s\n",
        "\n",
        "\tTrain Loss: 4.740 | Train PPL: 114.394\n",
        "\t Val. Loss: 4.912 |  Val. PPL: 135.867\n",
        "   \n",
        "   Epoch: 02 | Time: 0m 42s\n",
        "   \n",
        "\tTrain Loss: 3.924 | Train PPL:  50.603\n",
        "\t Val. Loss: 4.226 |  Val. PPL:  68.411"
      ]
    },
    {
      "metadata": {
        "id": "eTrSPLDDWTpL",
        "colab_type": "code",
        "colab": {
          "base_uri": "https://localhost:8080/",
          "height": 272
        },
        "outputId": "1d1ec803-66b8-472a-c19a-e2393eaea8b0"
      },
      "cell_type": "code",
      "source": [
        "N_EPOCHS = 5\n",
        "CLIP = 1\n",
        "SAVE_DIR = 'models'\n",
        "MODEL_SAVE_PATH = os.path.join(SAVE_DIR, 'tut1_model.pt')\n",
        "\n",
        "best_valid_loss = float('inf')\n",
        "\n",
        "if not os.path.isdir(f'{SAVE_DIR}'):\n",
        "    os.makedirs(f'{SAVE_DIR}')\n",
        "\n",
        "for epoch in range(N_EPOCHS):\n",
        "    start_time = time.time()\n",
        "    \n",
        "    train_loss = train(model, train_iterator, optimizer, criterion, CLIP)\n",
        "    valid_loss = evaluate(model, valid_iterator, criterion)\n",
        "    \n",
        "    end_time = time.time()\n",
        "    \n",
        "    epoch_mins, epoch_secs = epoch_time(start_time, end_time)\n",
        "    \n",
        "    if valid_loss < best_valid_loss:\n",
        "        best_valid_loss = valid_loss\n",
        "        torch.save(model.state_dict(), MODEL_SAVE_PATH)\n",
        "    \n",
        "    print(f'Epoch: {epoch+1:02} | Time: {epoch_mins}m {epoch_secs}s')\n",
        "    print(f'\\tTrain Loss: {train_loss:.3f} | Train PPL: {math.exp(train_loss):7.3f}')\n",
        "    print(f'\\t Val. Loss: {valid_loss:.3f} |  Val. PPL: {math.exp(valid_loss):7.3f}')"
      ],
      "execution_count": 24,
      "outputs": [
        {
          "output_type": "stream",
          "text": [
            "Epoch: 01 | Time: 0m 22s\n",
            "\tTrain Loss: 4.744 | Train PPL: 114.904\n",
            "\t Val. Loss: 4.944 |  Val. PPL: 140.333\n",
            "Epoch: 02 | Time: 0m 22s\n",
            "\tTrain Loss: 3.935 | Train PPL:  51.143\n",
            "\t Val. Loss: 4.254 |  Val. PPL:  70.382\n",
            "Epoch: 03 | Time: 0m 22s\n",
            "\tTrain Loss: 3.436 | Train PPL:  31.050\n",
            "\t Val. Loss: 4.059 |  Val. PPL:  57.916\n",
            "Epoch: 04 | Time: 0m 22s\n",
            "\tTrain Loss: 3.154 | Train PPL:  23.423\n",
            "\t Val. Loss: 3.830 |  Val. PPL:  46.042\n",
            "Epoch: 05 | Time: 0m 22s\n",
            "\tTrain Loss: 2.908 | Train PPL:  18.324\n",
            "\t Val. Loss: 3.737 |  Val. PPL:  41.992\n"
          ],
          "name": "stdout"
        }
      ]
    },
    {
      "metadata": {
        "id": "9Vndc13aWTpP",
        "colab_type": "text"
      },
      "cell_type": "markdown",
      "source": [
        "We'll load the parameters (`state_dict`) that gave our model the best validation loss and run it the model on the test set."
      ]
    },
    {
      "metadata": {
        "id": "I2UNcaY-WTpP",
        "colab_type": "code",
        "colab": {
          "base_uri": "https://localhost:8080/",
          "height": 34
        },
        "outputId": "038db409-4f20-425b-c2f5-352892b6f6d6"
      },
      "cell_type": "code",
      "source": [
        "model.load_state_dict(torch.load(MODEL_SAVE_PATH))\n",
        "test_loss = evaluate(model, test_iterator, criterion)\n",
        "print(f'| Test Loss: {test_loss:.3f} | Test PPL: {math.exp(test_loss):7.3f} |')"
      ],
      "execution_count": 25,
      "outputs": [
        {
          "output_type": "stream",
          "text": [
            "| Test Loss: 3.741 | Test PPL:  42.146 |\n"
          ],
          "name": "stdout"
        }
      ]
    },
    {
      "metadata": {
        "id": "Vnx-qOnZ5dfs",
        "colab_type": "text"
      },
      "cell_type": "markdown",
      "source": [
        "## Submission\n",
        "\n",
        "Now that you have completed the assignment, follow the steps below to submit your aissgnment:\n",
        "1. Click __Runtime__  > __Run all__ to generate the output for all cells in the notebook.\n",
        "2. Save the notebook with the output from all the cells in the notebook by click __File__ > __Download .ipynb__.\n",
        "3. Copy model train and test prints, answers to all short questions, and the shareable link of this notebook to a `README.txt` file.\n",
        "4. Put the .ipynb file and `README.txt` under your hidden directory on the Zoo server `~/hidden/<YOUR_PIN>/Homework5/`.\n",
        "5. As a final step, run a script that will set up the permissions to your homework files, so we can access and run your code to grade it. Make sure the command runs without errors, and do not make any changes or run the code again. If you do run the code again or make any changes, you need to run the permissions script again. Submissions without the correct permissions may incur some grading penalty.\n",
        "`/home/classes/cs477/bash_files/hw5_set_permissions.sh <YOUR_PIN>`"
      ]
    },
    {
      "metadata": {
        "id": "nQ-6_kMaL7k_",
        "colab_type": "code",
        "colab": {}
      },
      "cell_type": "code",
      "source": [
        ""
      ],
      "execution_count": 0,
      "outputs": []
    }
  ]
}